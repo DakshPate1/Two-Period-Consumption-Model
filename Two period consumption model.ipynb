{
 "cells": [
  {
   "cell_type": "code",
   "execution_count": 7,
   "id": "02319412-9248-457f-ae27-a2be23047cbd",
   "metadata": {},
   "outputs": [],
   "source": [
    "y1 = 60 #today's income\n",
    "y2 = 90 #future income\n",
    "r = 0.05 # rate of interest\n",
    "beta = 0.96 # time preference\n",
    "a_O = 0 # savings of today\n",
    "sigma = 2 # risk aversion preference\n",
    "#There is tau mentioned as well, which is to make period between two incomes changeable"
   ]
  },
  {
   "cell_type": "code",
   "execution_count": 43,
   "id": "2b0db25f-20cc-4258-a2bc-129400a9051b",
   "metadata": {},
   "outputs": [],
   "source": [
    "#total resources abailable across two periods\n",
    "#functions list\n",
    "def present_lifetime_value(y1,y2,r, tau=1):\n",
    "    presentlifetimevalue = y1 + (y2 / (1 + r)**tau)\n",
    "    return presentlifetimevalue\n",
    "    \n",
    "    \n",
    "\n",
    "def solve_c1(y1,y2,r,sigma,beta):\n",
    "    pv = present_lifetime_value(y1,y2,r)\n",
    "    lul = 1 + ((beta * (1 + r)) ** (1 / sigma)) / (1 + r)\n",
    "    c1 = pv / lul\n",
    "    return c1\n",
    "    \n",
    "\n",
    "def euler_consumption(c1,beta,r,sigma,tau=1):\n",
    "    c2 = c1 * (beta * (1+r)) ** (tau/sigma)\n",
    "    return c2\n",
    "\n",
    "def utility(C1,C2,beta,sigma):\n",
    "    if sigma == 1:\n",
    "        return math.log(C1) + beta * math.log(C2)\n",
    "    else:\n",
    "        return (C1**(1-sigma) + beta * C2**(1-sigma)) / (1-sigma)\n",
    "\n",
    "    "
   ]
  },
  {
   "cell_type": "code",
   "execution_count": 25,
   "id": "f1c58fc6-5a78-47e2-b37a-f9d5e941fafb",
   "metadata": {},
   "outputs": [
    {
     "name": "stdout",
     "output_type": "stream",
     "text": [
      "C1: 74.49\n",
      "C2: 74.79\n",
      "PV: 145.71\n",
      "A2: -14.49\n",
      "U: -0.03\n"
     ]
    }
   ],
   "source": [
    "C1 = solve_c1(y1, y2, r, sigma, beta)\n",
    "C2 = euler_consumption(C1, beta, r, sigma)\n",
    "PV = present_lifetime_value(y1,y2,r,tau=1)\n",
    "A2 = y1 - C1  # period-1 savings (could be negative if borrowing)\n",
    "U = utility(C1,C2,beta,sigma)\n",
    "print(f\"C1: {C1:.2f}\")\n",
    "print(f\"C2: {C2:.2f}\")\n",
    "print(f\"PV: {PV:.2f}\")\n",
    "print(f\"A2: {A2:.2f}\")\n",
    "print(f\"U: {U:.2f}\")"
   ]
  },
  {
   "cell_type": "code",
   "execution_count": 20,
   "id": "ad74a5d5-e197-4710-83ef-f692094cf95e",
   "metadata": {},
   "outputs": [],
   "source": [
    "def simulate_two_period(y1,y2,r,beta,sigma):\n",
    "    C1 = solve_c1(y1, y2, r, sigma, beta)\n",
    "    C2 = euler_consumption(C1, beta, r, sigma)\n",
    "    PV = present_lifetime_value(y1, y2, r)\n",
    "    A2 = y1 - C1\n",
    "    U = utility(C1, C2, beta, sigma)\n",
    "    return {\n",
    "        \"C1\" : C1,\n",
    "        \"C2\" : C2,\n",
    "        \"PV\" : PV,\n",
    "        \"A2\" : A2,\n",
    "        \"U\" : U\n",
    "    }\n",
    "    "
   ]
  },
  {
   "cell_type": "code",
   "execution_count": 6,
   "id": "28b72aa4-90e6-4961-80cf-b723fb40427c",
   "metadata": {
    "scrolled": true
   },
   "outputs": [
    {
     "data": {
      "text/plain": [
       "{'C1': 74.48909130522466,\n",
       " 'C2': 74.78645412951413,\n",
       " 'PV': 145.71428571428572,\n",
       " 'A2': -14.489091305224662,\n",
       " 'U': -0.02626133374955412}"
      ]
     },
     "execution_count": 6,
     "metadata": {},
     "output_type": "execute_result"
    }
   ],
   "source": [
    "simulate_two_period(y1,y2,r,beta,sigma)"
   ]
  },
  {
   "cell_type": "code",
   "execution_count": 29,
   "id": "68e5deb6-d300-412e-ab02-4c7e3b702ac9",
   "metadata": {},
   "outputs": [
    {
     "data": {
      "text/plain": [
       "{'C1': 302560.6961976881,\n",
       " 'C2': 297395.7719669512,\n",
       " 'PV': 594985.2507374631,\n",
       " 'A2': -2560.696197688114,\n",
       " 'U': -6.499518411913246e-06}"
      ]
     },
     "execution_count": 29,
     "metadata": {},
     "output_type": "execute_result"
    }
   ],
   "source": [
    "#policy simulation 1: baseline in India for average Joe\n",
    "# Real interest rate is nominal rate - rate of inflation; which in India;\n",
    "#a 10 year govt bond yield is 7.2 and expected inflation is 5.5. Gives our r as 1.7%\n",
    "\n",
    "#Y1 we will use 300000\n",
    "#First baseline will be flat income assumption meaning Y2 = Y1\n",
    "#moderate patience and moderate risk aversion gives us beta as 0.95 and sigma as 2 \n",
    "simulate_two_period(300000,300000,0.017,0.95,2)"
   ]
  },
  {
   "cell_type": "code",
   "execution_count": 37,
   "id": "bc78f292-edcb-46f7-a6c3-12a376f98f23",
   "metadata": {},
   "outputs": [
    {
     "data": {
      "text/plain": [
       "{'C1': 311561.01437907695,\n",
       " 'C2': 306242.44837647874,\n",
       " 'PV': 612684.365781711,\n",
       " 'A2': -11561.01437907695,\n",
       " 'U': -6.311761500639873e-06}"
      ]
     },
     "execution_count": 37,
     "metadata": {},
     "output_type": "execute_result"
    }
   ],
   "source": [
    "#policy simulation 2: baseline in India for average Joe\n",
    "# Real interest rate is nominal rate - rate of inflation; which in India;\n",
    "#a 10 year govt bond yield is 7.2 and expected inflation is 5.5. Gives our r as 1.7%\n",
    "\n",
    "#Y1 we will use 300000\n",
    "#second baseline will be under assumption of wage growth meaning Y2 = Y1(1+g) where g is growth rate(4-7% for middle class)\n",
    "#taking g as 6%\n",
    "#moderate patience and moderate risk aversion gives us beta as 0.95 and sigma as 2 \n",
    "simulate_two_period(300000,318000,0.017,0.95,2)"
   ]
  },
  {
   "cell_type": "code",
   "execution_count": 38,
   "id": "7353c91f-3602-4829-a737-4a804e40287a",
   "metadata": {},
   "outputs": [
    {
     "data": {
      "text/plain": [
       "{'C1': 255884.0460736521,\n",
       " 'C2': 251515.9251430958,\n",
       " 'PV': 503195.6735496559,\n",
       " 'A2': -5884.046073652105,\n",
       " 'U': -7.685116934145003e-06}"
      ]
     },
     "execution_count": 38,
     "metadata": {},
     "output_type": "execute_result"
    }
   ],
   "source": [
    "#policy simulation 3: tariff shock in India for average Joe(where tariff has immediate effects)\n",
    "# Real interest rate is nominal rate - rate of inflation; which in India;\n",
    "#a 10 year govt bond yield is 7.2 and expected inflation is 5.5. Gives our r as 1.7%\n",
    "\n",
    "#Y1 we will use 300000, but it will decrease Y1 so we will use 250000\n",
    "#will be under assumption of wage growth meaning Y2 = Y1(1+g) where g is growth rate(4-7% for middle class)\n",
    "#taking g as 3% because slow growth rate\n",
    "#moderate patience and moderate risk aversion gives us beta as 0.95 and sigma as 2 \n",
    "simulate_two_period(250000,257500,0.017,0.95,2)"
   ]
  },
  {
   "cell_type": "code",
   "execution_count": 40,
   "id": "af878b68-8f37-4de3-9807-8a64d1a88ce3",
   "metadata": {},
   "outputs": [
    {
     "data": {
      "text/plain": [
       "{'C1': 277559.8123604969,\n",
       " 'C2': 272821.6708293747,\n",
       " 'PV': 545821.0422812193,\n",
       " 'A2': 22440.1876395031,\n",
       " 'U': -7.084955127091884e-06}"
      ]
     },
     "execution_count": 40,
     "metadata": {},
     "output_type": "execute_result"
    }
   ],
   "source": [
    "#policy simulation 4: tariff shock in India for average Joe(where tariff has delayed effects)\n",
    "\n",
    "#Y1 we will use 300000, but it will decrease Y2 so we will use 250000\n",
    "#moderate patience and moderate risk aversion gives us beta as 0.95 and sigma as 2 \n",
    "simulate_two_period(300000,250000,0.017,0.95,2)"
   ]
  },
  {
   "cell_type": "code",
   "execution_count": 42,
   "id": "07970b8d-b0ff-4280-a8b0-b6de1c2af5c3",
   "metadata": {},
   "outputs": [
    {
     "data": {
      "text/plain": [
       "{'C1': 277671.738795281,\n",
       " 'C2': 272663.18512278976,\n",
       " 'PV': 546305.4187192118,\n",
       " 'A2': 22328.26120471902,\n",
       " 'U': -7.085526856877902e-06}"
      ]
     },
     "execution_count": 42,
     "metadata": {},
     "output_type": "execute_result"
    }
   ],
   "source": [
    "#policy simulation 5: tariff shock in India for average Joe(where tariff has delayed effects)\n",
    "\n",
    "#Y1 we will use 300000, but it will decrease Y2 so we will use 250000\n",
    "#also dropping interest rate from 1.7 to 1,5%\n",
    "#moderate patience and moderate risk aversion gives us beta as 0.95 and sigma as 2 \n",
    "simulate_two_period(300000,250000,0.015,0.95,2)"
   ]
  },
  {
   "cell_type": "code",
   "execution_count": null,
   "id": "a7bddf7a-96d7-4c2d-920b-685c8656ee08",
   "metadata": {},
   "outputs": [],
   "source": []
  }
 ],
 "metadata": {
  "kernelspec": {
   "display_name": "Python 3 (ipykernel)",
   "language": "python",
   "name": "python3"
  },
  "language_info": {
   "codemirror_mode": {
    "name": "ipython",
    "version": 3
   },
   "file_extension": ".py",
   "mimetype": "text/x-python",
   "name": "python",
   "nbconvert_exporter": "python",
   "pygments_lexer": "ipython3",
   "version": "3.11.4"
  }
 },
 "nbformat": 4,
 "nbformat_minor": 5
}
